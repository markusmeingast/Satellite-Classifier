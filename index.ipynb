{
 "cells": [
  {
   "cell_type": "code",
   "execution_count": 20,
   "metadata": {
    "slideshow": {
     "slide_type": "skip"
    }
   },
   "outputs": [
    {
     "name": "stdout",
     "output_type": "stream",
     "text": [
      "[NbConvertApp] Converting notebook index.ipynb to slides\n",
      "[NbConvertApp] Writing 302009 bytes to index.slides.html\n"
     ]
    }
   ],
   "source": [
    "!jupyter nbconvert index.ipynb \\\n",
    "    --to slides \\\n",
    "    --reveal-prefix \"https://cdn.jsdelivr.net/npm/reveal.js@3.6.0\" \\\n",
    "    --SlidesExporter.reveal_theme=moon"
   ]
  },
  {
   "cell_type": "markdown",
   "metadata": {
    "slideshow": {
     "slide_type": "slide"
    }
   },
   "source": [
    "# Presentation Title\n",
    "---\n",
    "Here's an example of a presentation converted from Jupyter to HTML.\n",
    "\n",
    "\n",
    "\n",
    "\n"
   ]
  },
  {
   "cell_type": "markdown",
   "metadata": {
    "slideshow": {
     "slide_type": "-"
    }
   },
   "source": [
    "<style>\n",
    "/* SET TOP AND BOTTOM BARS */\n",
    "div.slide-background {\n",
    "\tborder-top: 30px rgba(50, 50, 50, 0.6) solid;\n",
    "\tborder-bottom: 30px rgba(50, 50, 50, 0.6) solid;\n",
    "}\n",
    "    \n",
    "/* SET BACKGROUND IMAGE */\n",
    "body {\n",
    "    background: url(fabric.jpg);\n",
    "\tleft center;\n",
    "}\n",
    "\n",
    "/* SET FONT FOR PARAGRAPH */\n",
    ".reveal p {\n",
    "\tfont-family: Helvetica, \"Trebuchet MS\", Verdana, sans-serif;\n",
    "\tcolor: white;\n",
    "}\n",
    "\n",
    "/* SET FONT FOR HEADERS */\n",
    ".reveal h1, .reveal h2 {\n",
    "\tfont-family: Helvetica, \"Trebuchet MS\", Verdana, sans-serif;\n",
    "\tfont-weight: bold;\n",
    "    color: orange;\n",
    "}\n",
    "\n",
    "\n",
    "/* SET FONT FOR FOOTER */\n",
    "div.footer {\n",
    "\tfont-size:10pt;\n",
    "\tfont-style: italic;\n",
    "\tcolor: #eeeeee;\n",
    "\ttext-align: left center\n",
    "}\n",
    "\n",
    "/* SET POSITION OF FOOTER ON SLIDE */\n",
    ".slides .footer{\n",
    "\tposition:fixed;\n",
    "\tbottom: 5px;\n",
    "\tleft: -50px;\n",
    "}\n",
    "\n",
    "/* SET PROGRESS BAR */\n",
    ".reveal .progress {\n",
    "\tposition: absolute;\n",
    "\tdisplay: none;\n",
    "\theight: 3px;\n",
    "\twidth: 100%;\n",
    "\tbottom: 0;\n",
    "\tleft: 0;\n",
    "\tz-index: 10;\n",
    "\tbackground-color: rgba(0, 0, 0, 0.2);\n",
    "\tcolor: #fff; \n",
    "}\n",
    "\n",
    ".reveal .progress:after {\n",
    "\tcontent: '';\n",
    "\tdisplay: block;\n",
    "\tposition: absolute;\n",
    "\theight: 10px;\n",
    "\twidth: 100%;\n",
    "\ttop: -10px;\n",
    "}\n",
    "\n",
    ".reveal .progress span {\n",
    "\tdisplay: block;\n",
    "\theight: 100%;\n",
    "\twidth: 0px;\n",
    "\tbackground-color: currentColor;\n",
    "\ttransition: width 800ms cubic-bezier(0.26, 0.86, 0.44, 0.985); \n",
    "}\n",
    "\n",
    "</style>"
   ]
  },
  {
   "cell_type": "markdown",
   "metadata": {
    "slideshow": {
     "slide_type": "-"
    }
   },
   "source": [
    "<div class=\"footer\">\n",
    "Markus Meingast ©2019\n",
    "\n",
    "</div>"
   ]
  },
  {
   "cell_type": "code",
   "execution_count": 18,
   "metadata": {
    "slideshow": {
     "slide_type": "slide"
    }
   },
   "outputs": [],
   "source": [
    "import pandas as pd\n",
    "import matplotlib.pyplot as mp\n",
    "import numpy as np"
   ]
  },
  {
   "cell_type": "markdown",
   "metadata": {
    "slideshow": {
     "slide_type": "slide"
    }
   },
   "source": [
    "# Heading Nr. 2"
   ]
  },
  {
   "cell_type": "markdown",
   "metadata": {
    "slideshow": {
     "slide_type": "-"
    }
   },
   "source": [
    "Some random text"
   ]
  },
  {
   "cell_type": "code",
   "execution_count": 19,
   "metadata": {
    "slideshow": {
     "slide_type": "-"
    }
   },
   "outputs": [
    {
     "data": {
      "text/plain": [
       "[<matplotlib.lines.Line2D at 0x7f4dee0b1d90>]"
      ]
     },
     "execution_count": 19,
     "metadata": {},
     "output_type": "execute_result"
    },
    {
     "data": {
      "image/png": "[encoded data removed]",
      "text/plain": [
       "<Figure size 432x288 with 1 Axes>"
      ]
     },
     "metadata": {
      "needs_background": "light"
     },
     "output_type": "display_data"
    }
   ],
   "source": [
    "mp.plot(np.linspace(0,10,100),np.sin(np.linspace(0,10,100)))"
   ]
  },
  {
   "cell_type": "markdown",
   "metadata": {
    "slideshow": {
     "slide_type": "subslide"
    }
   },
   "source": [
    "## Subheading 2a"
   ]
  },
  {
   "cell_type": "markdown",
   "metadata": {
    "slideshow": {
     "slide_type": "-"
    }
   },
   "source": [
    "asdasd"
   ]
  },
  {
   "cell_type": "markdown",
   "metadata": {
    "slideshow": {
     "slide_type": "slide"
    }
   },
   "source": [
    "# HEadong 3"
   ]
  },
  {
   "cell_type": "markdown",
   "metadata": {
    "slideshow": {
     "slide_type": "-"
    }
   },
   "source": [
    "asdasdasd"
   ]
  }
 ],
 "metadata": {
  "celltoolbar": "Slideshow",
  "kernelspec": {
   "display_name": "Python 3",
   "language": "python",
   "name": "python3"
  },
  "language_info": {
   "codemirror_mode": {
    "name": "ipython",
    "version": 3
   },
   "file_extension": ".py",
   "mimetype": "text/x-python",
   "name": "python",
   "nbconvert_exporter": "python",
   "pygments_lexer": "ipython3",
   "version": "3.7.5"
  }
 },
 "nbformat": 4,
 "nbformat_minor": 2
}
